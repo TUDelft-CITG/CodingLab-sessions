{
 "cells": [
  {
   "cell_type": "markdown",
   "id": "38d74e93",
   "metadata": {},
   "source": [
    "# Script\n",
    "This is an example of how you would program your first \"a ship moving along a route\". The goal is to compute the total duration of the trip. Notice that we don't use any external libraries, only internal python functions. We also don't use any loops or functions or classes. The function does work just fine but has some rome for improvements. In this notebook we'll use several general program guidelines to rewrite our program several times. The goal is to learn to know the guidelines and to apply them."
   ]
  },
  {
   "cell_type": "code",
   "execution_count": 1,
   "id": "95ccf89a",
   "metadata": {},
   "outputs": [
    {
     "name": "stdout",
     "output_type": "stream",
     "text": [
      "Going from Rotterdam to Dordrecht, distance: 20000\n",
      "Going from Dordrecht to Den Bosch, distance: 40000\n",
      "Going from Den Bosch to Rotterdam, distance: 60000\n",
      "t: 60000.0\n"
     ]
    }
   ],
   "source": [
    "# here we define a ship with velocity 2 \n",
    "ship = {\"v\": 2}\n",
    "# We define the route\n",
    "route = [\"Rotterdam\", \"Dordrecht\", \"Den Bosch\", \"Rotterdam\"]\n",
    "# We read the distances from Google Maps\n",
    "distances = {\n",
    "    (\"Rotterdam\", \"Dordrecht\"): 20000,\n",
    "    (\"Dordrecht\", \"Den Bosch\"): 40000,\n",
    "    (\"Den Bosch\", \"Rotterdam\"): 60000\n",
    "}\n",
    "\n",
    "# Let's start the clock, we want to know how long a ship took\n",
    "t = 0\n",
    "\n",
    "# The first edge of the route, we're going from a to b, from Rotterdam to Dordrecth\n",
    "a = route[0]\n",
    "b = route[1]\n",
    "# Now lookup our distance\n",
    "distance = distances[a, b]\n",
    "# With these two you can compute the duration\n",
    "duration = distance / ship[\"v\"]\n",
    "# Let's print so that we know what's happening\n",
    "print(f\"Going from {a} to {b}, distance: {distance}\")\n",
    "# Sum up the duration\n",
    "t += duration\n",
    "\n",
    "# The same for edge 2\n",
    "a = route[1]\n",
    "b = route[2]\n",
    "distance = distances[a, b]\n",
    "duration = distance / ship[\"v\"]\n",
    "print(f\"Going from {a} to {b}, distance: {distance}\")\n",
    "t += duration\n",
    "\n",
    "# The same for edge 3\n",
    "a = route[2]\n",
    "b = route[3]\n",
    "distance = distances[a, b]\n",
    "duration = distance / ship[\"v\"]\n",
    "print(f\"Going from {a} to {b}, distance: {distance}\")\n",
    "t += duration\n",
    "\n",
    "# Now we're done, we can show the duration\n",
    "print(f\"t: {t}\")"
   ]
  },
  {
   "cell_type": "markdown",
   "id": "8ca97ac3",
   "metadata": {},
   "source": [
    "# DRY\n",
    "One of the first principles is \"Don't Repeat Yourself\". We want to avoid duplication. The idea behind it is that if you program the same lines multiple times you also have to change multiple lines when things change. \n",
    "\n",
    "By making sure we don't have any repetitions we reduce the maintenance and make our software easier adaptable. Here we reduce the repetitions by using a for loop. "
   ]
  },
  {
   "cell_type": "code",
   "execution_count": 2,
   "id": "689ef0be",
   "metadata": {},
   "outputs": [
    {
     "name": "stdout",
     "output_type": "stream",
     "text": [
      "Going from Rotterdam to Dordrecht, distance: 20000\n",
      "Going from Dordrecht to Den Bosch, distance: 40000\n",
      "Going from Den Bosch to Rotterdam, distance: 60000\n",
      "t: 60000.0\n"
     ]
    }
   ],
   "source": [
    "ship = {\"v\": 2}\n",
    "route = [\"Rotterdam\", \"Dordrecht\", \"Den Bosch\", \"Rotterdam\"]\n",
    "distances = {\n",
    "    (\"Rotterdam\", \"Dordrecht\"): 20000,\n",
    "    (\"Dordrecht\", \"Den Bosch\"): 40000,\n",
    "    (\"Den Bosch\", \"Rotterdam\"): 60000\n",
    "}\n",
    "t = 0\n",
    "\n",
    "# Here we use the range combined with for. \n",
    "# We only loop to length - 1 because the number of edges is the number of nodes -1.\n",
    "for i in range(len(route) - 1):\n",
    "    a = route[i]\n",
    "    b = route[i + 1]\n",
    "    distance = distances[a, b]\n",
    "    duration = distance / ship[\"v\"]\n",
    "    print(f\"Going from {a} to {b}, distance: {distance}\")\n",
    "    t += duration\n",
    "\n",
    "print(f\"t: {t}\")"
   ]
  },
  {
   "cell_type": "markdown",
   "id": "055c41ae",
   "metadata": {},
   "source": [
    "# Function\n",
    "The amount of work done in a for loop can become quite large. Up to now it's just 6 lines, but as you reach 10-20 or certainly the end of the page you want to split up the work into logical steps. That makes your code easier to read for others. It also allows you to later test seperate parts of your program. "
   ]
  },
  {
   "cell_type": "code",
   "execution_count": 3,
   "id": "55209355",
   "metadata": {},
   "outputs": [
    {
     "name": "stdout",
     "output_type": "stream",
     "text": [
      "Going from Rotterdam to Dordrecht, distance: 20000\n",
      "Going from Dordrecht to Den Bosch, distance: 40000\n",
      "Going from Den Bosch to Rotterdam, distance: 60000\n",
      "t: 60000.0\n"
     ]
    }
   ],
   "source": [
    "ship = {\"v\": 2}\n",
    "route = [\"Rotterdam\", \"Dordrecht\", \"Den Bosch\", \"Rotterdam\"]\n",
    "distances = {\n",
    "    (\"Rotterdam\", \"Dordrecht\"): 20000,\n",
    "    (\"Dordrecht\", \"Den Bosch\"): 40000,\n",
    "    (\"Den Bosch\", \"Rotterdam\"): 60000\n",
    "}\n",
    "\n",
    "# here we make a function that looks up the global route variable \n",
    "# it just passes one edge, so let's give it a logical name \"pass_edge\"\n",
    "# A function often has an \"action\" / verb in the name. You can ask yourself what is this function doing? \n",
    "# The answer is a good name for the function. \n",
    "# We'll also rename the abstact counter i to e to represent an edge number\n",
    "def pass_edge(e):\n",
    "    a = route[e]\n",
    "    b = route[e + 1]\n",
    "    distance = distances[a, b]\n",
    "    duration = distance / ship[\"v\"]\n",
    "    print(f\"Going from {a} to {b}, distance: {distance}\")\n",
    "    return duration\n",
    "    \n",
    "\n",
    "t = 0\n",
    "for e in range(len(route) - 1):\n",
    "    duration = pass_edge(e)\n",
    "    t += duration\n",
    "\n",
    "print(f\"t: {t}\")"
   ]
  },
  {
   "cell_type": "code",
   "execution_count": 4,
   "id": "f74dab45",
   "metadata": {},
   "outputs": [
    {
     "name": "stdout",
     "output_type": "stream",
     "text": [
      "Going from Rotterdam to Dordrecht, distance: 20000\n",
      "Going from Dordrecht to Den Bosch, distance: 40000\n",
      "Going from Den Bosch to Rotterdam, distance: 60000\n",
      "t: 60000.0\n"
     ]
    }
   ],
   "source": [
    "ship = {\"v\": 2}\n",
    "route = [\"Rotterdam\", \"Dordrecht\", \"Den Bosch\", \"Rotterdam\"]\n",
    "distances = {\n",
    "    (\"Rotterdam\", \"Dordrecht\"): 20000,\n",
    "    (\"Dordrecht\", \"Den Bosch\"): 40000,\n",
    "    (\"Den Bosch\", \"Rotterdam\"): 60000\n",
    "}\n",
    "\n",
    "# here we make a function that looks up the global route variable \n",
    "# it just passes one edge, so let's give it a logical name \"pass_edge\"\n",
    "# A function often has an \"action\" / verb in the name. You can ask yourself what is this function doing? \n",
    "# The answer is a good name for the function. \n",
    "# We'll also rename the abstact counter i to e to represent an edge number\n",
    "def pass_edge(e):\n",
    "    a = route[e]\n",
    "    b = route[e + 1]\n",
    "    distance = distances[a, b]\n",
    "    duration = distance / ship[\"v\"]\n",
    "    print(f\"Going from {a} to {b}, distance: {distance}\")\n",
    "    return duration\n",
    "    \n",
    "# Now that we have made our first function. \n",
    "# Let's group all of the remaining work into another function, \n",
    "# so that we only have to call one function to do all the work.\n",
    "def move():\n",
    "    t = 0\n",
    "    for e in range(len(route) - 1):\n",
    "        duration = pass_edge(e)\n",
    "        t += duration\n",
    "\n",
    "    print(f\"t: {t}\")\n",
    "    \n",
    "move()"
   ]
  },
  {
   "cell_type": "markdown",
   "id": "2fc3ac92",
   "metadata": {},
   "source": [
    "# Generators\n",
    "Now for a slightly more complicated step. We can have functions that \"return\" one time. But we can also make functions that yield \"multiple times\". Let's start with a simple example. These functions don't return values but return generators because they generate results."
   ]
  },
  {
   "cell_type": "code",
   "execution_count": 5,
   "id": "f08d6576",
   "metadata": {},
   "outputs": [
    {
     "name": "stdout",
     "output_type": "stream",
     "text": [
      "one(): 1\n",
      "generator one(): <generator object one at 0x107816970>\n",
      "x: 1\n",
      "next one(): 1\n"
     ]
    }
   ],
   "source": [
    "# this is a normal function that returns 1\n",
    "def one():\n",
    "    return 1\n",
    "\n",
    "print(\"one():\", one())\n",
    "\n",
    "# Now let's make a generator that also returns 1\n",
    "def one():\n",
    "    yield 1\n",
    "# Here you notice that our generator function returns a generator object, which we can loop over\n",
    "print(\"generator one():\", one())\n",
    "for x in one():\n",
    "    print(\"x:\", x)\n",
    "\n",
    "# You can also manually loop over the generator:\n",
    "generator_one = one()\n",
    "print(\"next one():\", next(generator_one))\n",
    "\n"
   ]
  },
  {
   "cell_type": "code",
   "execution_count": 6,
   "id": "a23b4b81",
   "metadata": {},
   "outputs": [
    {
     "name": "stderr",
     "output_type": "stream",
     "text": [
      "ERROR:root:Generator raised the error:\n",
      "Traceback (most recent call last):\n",
      "  File \"/var/folders/fh/tcbrjg6n28b0lzjzh07b5t6m0000gn/T/ipykernel_97604/2021167945.py\", line 6, in <module>\n",
      "    next(generator_one)\n",
      "StopIteration\n"
     ]
    }
   ],
   "source": [
    "# If we now would try to generate another value it would raise a StopIteration, \n",
    "# to signal that the generator is exhausted.\n",
    "import logging\n",
    "\n",
    "try:\n",
    "    next(generator_one)\n",
    "except StopIteration:\n",
    "    logging.exception(\"Generator raised the error:\")"
   ]
  },
  {
   "cell_type": "code",
   "execution_count": 7,
   "id": "87950304",
   "metadata": {},
   "outputs": [
    {
     "name": "stdout",
     "output_type": "stream",
     "text": [
      "x: 1\n",
      "x: 2\n",
      "x: 3\n",
      "list: [1, 2, 3]\n",
      "sum: 6\n"
     ]
    }
   ],
   "source": [
    "# We can make another generator that yields three numbers:\n",
    "def one_two_three():\n",
    "    yield 1\n",
    "    yield 2\n",
    "    yield 3\n",
    "    \n",
    "# this will keep yielding values until it's done\n",
    "for x in one_two_three():\n",
    "    print(\"x:\", x)\n",
    "\n",
    "# You can also collect all yielded values in a list:\n",
    "print(\"list:\", list(one_two_three()))\n",
    "\n",
    "# Or immediately compute the sum\n",
    "print(\"sum:\", sum(one_two_three()))"
   ]
  },
  {
   "cell_type": "markdown",
   "id": "f30e431e",
   "metadata": {},
   "source": [
    "Lets' use this to generate our durations in the move functions. Then we can just sum them up, without needing the \"t\" variable."
   ]
  },
  {
   "cell_type": "code",
   "execution_count": 8,
   "id": "7df8cbc5",
   "metadata": {},
   "outputs": [
    {
     "name": "stdout",
     "output_type": "stream",
     "text": [
      "Going from Rotterdam to Dordrecht, distance: 20000\n",
      "Going from Dordrecht to Den Bosch, distance: 40000\n",
      "Going from Den Bosch to Rotterdam, distance: 60000\n",
      "[10000.0, 20000.0, 30000.0]\n",
      "Going from Rotterdam to Dordrecht, distance: 20000\n",
      "Going from Dordrecht to Den Bosch, distance: 40000\n",
      "Going from Den Bosch to Rotterdam, distance: 60000\n",
      "t: 60000.0\n"
     ]
    }
   ],
   "source": [
    "ship = {\"v\": 2}\n",
    "route = [\"Rotterdam\", \"Dordrecht\", \"Den Bosch\", \"Rotterdam\"]\n",
    "distances = {\n",
    "    (\"Rotterdam\", \"Dordrecht\"): 20000,\n",
    "    (\"Dordrecht\", \"Den Bosch\"): 40000,\n",
    "    (\"Den Bosch\", \"Rotterdam\"): 60000\n",
    "}\n",
    "\n",
    "def pass_edge(i):\n",
    "    a = route[i]\n",
    "    b = route[i + 1]\n",
    "    distance = distances[a, b]\n",
    "    duration = distance / ship[\"v\"]\n",
    "    print(f\"Going from {a} to {b}, distance: {distance}\")\n",
    "    return duration\n",
    "\n",
    "def move():\n",
    "    for i in range(len(route) - 1):\n",
    "        duration = pass_edge(i)\n",
    "        yield duration\n",
    "        \n",
    "# Just like in the simple example, we can generate a list of durations\n",
    "print(list(move()))        \n",
    "\n",
    "# And we can immediately sum them, while they are being generated. \n",
    "t = sum(move())\n",
    "print(f\"t: {t}\")"
   ]
  },
  {
   "cell_type": "code",
   "execution_count": 9,
   "id": "991ac7bd",
   "metadata": {},
   "outputs": [
    {
     "name": "stdout",
     "output_type": "stream",
     "text": [
      "Going from Rotterdam to Dordrecht, distance: 20000\n",
      "Going from Dordrecht to Den Bosch, distance: 40000\n",
      "Going from Den Bosch to Rotterdam, distance: 60000\n",
      "[10000.0, 20000.0, 30000.0]\n",
      "Going from Rotterdam to Dordrecht, distance: 20000\n",
      "Going from Dordrecht to Den Bosch, distance: 40000\n",
      "Going from Den Bosch to Rotterdam, distance: 60000\n",
      "t: 60000.0\n"
     ]
    }
   ],
   "source": [
    "ship = {\"v\": 2}\n",
    "route = [\"Rotterdam\", \"Dordrecht\", \"Den Bosch\", \"Rotterdam\"]\n",
    "distances = {\n",
    "    (\"Rotterdam\", \"Dordrecht\"): 20000,\n",
    "    (\"Dordrecht\", \"Den Bosch\"): 40000,\n",
    "    (\"Den Bosch\", \"Rotterdam\"): 60000\n",
    "}\n",
    "\n",
    "def pass_edge(i):\n",
    "    a = route[i]\n",
    "    b = route[i + 1]\n",
    "    distance = distances[a, b]\n",
    "    duration = distance / ship[\"v\"]\n",
    "    print(f\"Going from {a} to {b}, distance: {distance}\")\n",
    "    # let's also yield here \n",
    "    yield duration\n",
    "\n",
    "def move():\n",
    "    for i in range(len(route) - 1):\n",
    "        # if we yield from something that yields we can yield FROM the results\n",
    "        # if we yield from something that returns we can yield the results\n",
    "        yield from pass_edge(i)\n",
    "        \n",
    "# Just like in the simple example, we can generate a list of durations\n",
    "print(list(move()))        \n",
    "\n",
    "# And we can immediately sum them, while they are being generated. \n",
    "t = sum(move())\n",
    "print(f\"t: {t}\")"
   ]
  },
  {
   "cell_type": "markdown",
   "id": "215fb140",
   "metadata": {},
   "source": [
    "# Let's complicate\n",
    "Let's add some extra wait times in Rotterdam Dordrecht. Let's include a lock that we also need to pass. That takes 1800 seconds. "
   ]
  },
  {
   "cell_type": "code",
   "execution_count": 10,
   "id": "693b649b",
   "metadata": {},
   "outputs": [
    {
     "name": "stdout",
     "output_type": "stream",
     "text": [
      "Waiting for lock on edge ('Rotterdam', 'Dordrecht')\n",
      "Going from Rotterdam to Dordrecht, distance: 20000\n",
      "Going from Dordrecht to Den Bosch, distance: 40000\n",
      "Going from Den Bosch to Rotterdam, distance: 60000\n",
      "[1800, 10000.0, 20000.0, 30000.0]\n",
      "Waiting for lock on edge ('Rotterdam', 'Dordrecht')\n",
      "Going from Rotterdam to Dordrecht, distance: 20000\n",
      "Going from Dordrecht to Den Bosch, distance: 40000\n",
      "Going from Den Bosch to Rotterdam, distance: 60000\n",
      "t: 61800.0\n"
     ]
    }
   ],
   "source": [
    "\n",
    "ship = {\"v\": 2}\n",
    "route = [\"Rotterdam\", \"Dordrecht\", \"Den Bosch\", \"Rotterdam\"]\n",
    "distances = {\n",
    "    (\"Rotterdam\", \"Dordrecht\"): 20000,\n",
    "    (\"Dordrecht\", \"Den Bosch\"): 40000,\n",
    "    (\"Den Bosch\", \"Rotterdam\"): 60000\n",
    "}\n",
    "\n",
    "# this is 1 lock\n",
    "lock = {\n",
    "    \"edge\": (\"Rotterdam\", \"Dordrecht\"),\n",
    "    \"wait\": 1800\n",
    "}\n",
    "\n",
    "def pass_edge(i):\n",
    "    a = route[i]\n",
    "    b = route[i + 1]\n",
    "    distance = distances[a, b]\n",
    "    duration = distance / ship[\"v\"]\n",
    "    edge = (a, b)\n",
    "    if edge == lock[\"edge\"]:\n",
    "        print(f\"Waiting for lock on edge {edge}\")\n",
    "        yield lock[\"wait\"]\n",
    "    print(f\"Going from {a} to {b}, distance: {distance}\")\n",
    "    # let's also yield here \n",
    "    yield duration\n",
    "    \n",
    "\n",
    "def move():\n",
    "    for i in range(len(route) - 1):\n",
    "        # if we yield from something that yields we can yield FROM the results\n",
    "        # if we yield from something that returns we can yield the results\n",
    "        yield from pass_edge(i)\n",
    "        \n",
    "# Just like in the simple example, we can generate a list of durations\n",
    "print(list(move()))        \n",
    "\n",
    "# And we can immediately sum them, while they are being generated. \n",
    "t = sum(move())\n",
    "print(f\"t: {t}\")"
   ]
  },
  {
   "cell_type": "markdown",
   "id": "2184b580",
   "metadata": {},
   "source": [
    "# Global variables are harmfull"
   ]
  },
  {
   "cell_type": "code",
   "execution_count": 11,
   "id": "4a05ff9d",
   "metadata": {},
   "outputs": [
    {
     "name": "stdout",
     "output_type": "stream",
     "text": [
      "Waiting for lock on edge ('Rotterdam', 'Dordrecht')\n",
      "Going from Rotterdam to Dordrecht, distance: 20000\n",
      "Going from Dordrecht to Den Bosch, distance: 40000\n",
      "Going from Den Bosch to Rotterdam, distance: 60000\n",
      "[1800, 10000.0, 20000.0, 30000.0]\n",
      "Waiting for lock on edge ('Rotterdam', 'Dordrecht')\n",
      "Going from Rotterdam to Dordrecht, distance: 20000\n",
      "Going from Dordrecht to Den Bosch, distance: 40000\n",
      "Going from Den Bosch to Rotterdam, distance: 60000\n",
      "t: 61800.0\n"
     ]
    }
   ],
   "source": [
    "\n",
    "ship = {\"v\": 2}\n",
    "route = [\"Rotterdam\", \"Dordrecht\", \"Den Bosch\", \"Rotterdam\"]\n",
    "distances = {\n",
    "    (\"Rotterdam\", \"Dordrecht\"): 20000,\n",
    "    (\"Dordrecht\", \"Den Bosch\"): 40000,\n",
    "    (\"Den Bosch\", \"Rotterdam\"): 60000\n",
    "}\n",
    "\n",
    "# this is 1 lock\n",
    "lock = {\n",
    "    \"edge\": (\"Rotterdam\", \"Dordrecht\"),\n",
    "    \"wait\": 1800\n",
    "}\n",
    "\n",
    "def pass_edge(i):\n",
    "    a = route[i]\n",
    "    b = route[i + 1]\n",
    "    distance = distances[a, b]\n",
    "    duration = distance / ship[\"v\"]\n",
    "    edge = (a, b)\n",
    "    if edge == lock[\"edge\"]:\n",
    "        print(f\"Waiting for lock on edge {edge}\")\n",
    "        yield lock[\"wait\"]\n",
    "    print(f\"Going from {a} to {b}, distance: {distance}\")\n",
    "    # let's also yield here \n",
    "    yield duration\n",
    "    \n",
    "\n",
    "def move():\n",
    "    for i in range(len(route) - 1):\n",
    "        # if we yield from something that yields we can yield FROM the results\n",
    "        # if we yield from something that returns we can yield the results\n",
    "        yield from pass_edge(i)\n",
    "        \n",
    "# Just like in the simple example, we can generate a list of durations\n",
    "print(list(move()))        \n",
    "\n",
    "# And we can immediately sum them, while they are being generated. \n",
    "t = sum(move())\n",
    "print(f\"t: {t}\")"
   ]
  },
  {
   "cell_type": "markdown",
   "id": "d8c3867d",
   "metadata": {},
   "source": [
    "# Use external libraries (do not reinvent the wheel)\n",
    "Up to know we did our own administration for waiting times. There is a library that we can use for that. The simpy library is a discrete event model that allows to keep track of times spent on activities."
   ]
  },
  {
   "cell_type": "code",
   "execution_count": 12,
   "id": "69009151",
   "metadata": {},
   "outputs": [
    {
     "name": "stdout",
     "output_type": "stream",
     "text": [
      "Waiting for lock on edge ('Rotterdam', 'Dordrecht')\n",
      "Going from Rotterdam to Dordrecht, distance: 20000\n",
      "Going from Dordrecht to Den Bosch, distance: 40000\n",
      "Going from Den Bosch to Rotterdam, distance: 60000\n",
      "t: 61800.0\n"
     ]
    }
   ],
   "source": [
    "import simpy\n",
    "\n",
    "def pass_edge(env, edge):\n",
    "    \"\"\"compute distances and wait for the duration\"\"\"\n",
    "    if edge == lock[\"edge\"]:\n",
    "        print(f\"Waiting for lock on edge {edge}\")\n",
    "        yield env.timeout(lock[\"wait\"])\n",
    "    a, b = edge\n",
    "    distance = abs(network[b][\"geometry\"] - network[a][\"geometry\"])\n",
    "    duration = distance / ship[\"v\"]\n",
    "    print(f\"Going from {a} to {b}, distance: {distance}\")\n",
    "    yield env.timeout(duration)\n",
    "    \n",
    "def edges(route):\n",
    "    \"\"\"return list of node pairs in the route\"\"\"\n",
    "    # all from nodes\n",
    "    a = route[:-1]\n",
    "    # all to nodes\n",
    "    b = route[1:]\n",
    "    # combine and return pairs\n",
    "    for a_i, b_i in zip(a, b):\n",
    "        yield a_i, b_i\n",
    "\n",
    "def move(env, ship):\n",
    "    \"\"\"pass all edges in the route\"\"\"\n",
    "    for edge in edges(route):\n",
    "        yield from pass_edge(env, edge)\n",
    "\n",
    "network = {\n",
    "    \"Rotterdam\": {\"geometry\": 0},\n",
    "    \"Dordrecht\": {\"geometry\": 20000},\n",
    "    \"Den Bosch\": {\"geometry\": 60000}\n",
    "}\n",
    "\n",
    "# A ship HAS A velocity, A ship HAS A (follows a) route.\n",
    "ship = {\n",
    "    \"v\": 2,\n",
    "    \"route\": [\"Rotterdam\", \"Dordrecht\", \"Den Bosch\", \"Rotterdam\"]\n",
    "}      \n",
    "        \n",
    "env = simpy.Environment()       \n",
    "env.process(move(env, ship))\n",
    "env.run()\n",
    "print(f\"t: {env.now}\")        "
   ]
  },
  {
   "cell_type": "markdown",
   "id": "52bf7887",
   "metadata": {},
   "source": [
    "# Namespaces"
   ]
  },
  {
   "cell_type": "code",
   "execution_count": 18,
   "id": "3343fac3",
   "metadata": {},
   "outputs": [
    {
     "name": "stdout",
     "output_type": "stream",
     "text": [
      "Waiting for lock on edge ('Rotterdam', 'Dordrecht')\n",
      "Going from Rotterdam to Dordrecht, distance: 20000\n",
      "Going from Dordrecht to Den Bosch, distance: 40000\n",
      "Going from Den Bosch to Rotterdam, distance: 60000\n",
      "t: 61800.0\n"
     ]
    }
   ],
   "source": [
    "### Module\n",
    "def edges(route):\n",
    "    \"\"\"return list of node pairs in the route\"\"\"\n",
    "    # all from nodes\n",
    "    a = route[:-1]\n",
    "    # all to nodes\n",
    "    b = route[1:]\n",
    "    # combine and return pairs\n",
    "    for a_i, b_i in zip(a, b):\n",
    "        yield a_i, b_i\n",
    "\n",
    "### Objects\n",
    "class Ship:\n",
    "    def __init__(self, env, v, route):\n",
    "        self.env = env\n",
    "        self.v = v\n",
    "        self.route = route\n",
    "\n",
    "    def pass_edge(self, edge):\n",
    "        \"\"\"compute distances and wait for the duration\"\"\"\n",
    "        if edge == lock[\"edge\"]:\n",
    "            print(f\"Waiting for lock on edge {edge}\")\n",
    "            yield env.timeout(lock[\"wait\"])\n",
    "        a, b = edge\n",
    "        destination = env.network[b][\"geometry\"]\n",
    "        origin = env.network[a][\"geometry\"]\n",
    "        distance = abs(destination - origin)\n",
    "        duration = distance / self.v\n",
    "        print(f\"Going from {a} to {b}, distance: {distance}\")\n",
    "        yield env.timeout(duration)\n",
    "        \n",
    "    def move(self):\n",
    "        \"\"\"pass all edges in the route\"\"\"\n",
    "        for edge in edges(self.route):\n",
    "            yield from self.pass_edge(edge)\n",
    "    \n",
    "\n",
    "\n",
    "### Script        \n",
    "network = {\n",
    "    \"Rotterdam\": {\"geometry\": 0},\n",
    "    \"Dordrecht\": {\"geometry\": 20000},\n",
    "    \"Den Bosch\": {\"geometry\": 60000}\n",
    "}\n",
    "ship_data = {\n",
    "    \"v\": 2,\n",
    "    \"route\": [\"Rotterdam\", \"Dordrecht\", \"Den Bosch\", \"Rotterdam\"]\n",
    "}\n",
    "# The environment HAS A network\n",
    "# The variable ship IS A Ship (is of type Ship)      \n",
    "\n",
    "env = simpy.Environment()   \n",
    "env.network = network\n",
    "ship = Ship(env, v=ship_data[\"v\"], route=ship_data[\"route\"])\n",
    "env.process(ship.move())\n",
    "env.run()\n",
    "print(f\"t: {env.now}\")        "
   ]
  },
  {
   "cell_type": "markdown",
   "id": "be850a80",
   "metadata": {},
   "source": [
    "# No global variables"
   ]
  },
  {
   "cell_type": "code",
   "execution_count": 26,
   "id": "d66bc91d",
   "metadata": {},
   "outputs": [
    {
     "name": "stdout",
     "output_type": "stream",
     "text": [
      "Overwriting config.json\n"
     ]
    }
   ],
   "source": [
    "%%file config.json\n",
    "{\n",
    "    \"network\": {\n",
    "        \"Rotterdam\": {\"geometry\": 0},\n",
    "        \"Dordrecht\": {\"geometry\": 20000},\n",
    "        \"Den Bosch\": {\"geometry\": 60000}\n",
    "    },\n",
    "    \"ship\": {\n",
    "        \"v\": 2,\n",
    "        \"route\": [\"Rotterdam\", \"Dordrecht\", \"Den Bosch\", \"Rotterdam\"]\n",
    "    },\n",
    "    \"lock\": {\n",
    "        \"edge\": [\"Rotterdam\", \"Dordrecht\"],\n",
    "        \"wait\": 1800\n",
    "    }\n",
    "}"
   ]
  },
  {
   "cell_type": "code",
   "execution_count": 30,
   "id": "0e7d7748",
   "metadata": {},
   "outputs": [
    {
     "name": "stdout",
     "output_type": "stream",
     "text": [
      "Waiting for lock on edge ('Rotterdam', 'Dordrecht')\n",
      "Going from Rotterdam to Dordrecht, distance: 20000\n",
      "Going from Dordrecht to Den Bosch, distance: 40000\n",
      "Going from Den Bosch to Rotterdam, distance: 60000\n",
      "t: 61800.0\n"
     ]
    }
   ],
   "source": [
    "import json\n",
    "\n",
    "class SimpyObject:\n",
    "    def __init__(self, env):\n",
    "        self.env = env\n",
    "\n",
    "class Ship(SimpyObject):\n",
    "    def __init__(self, v, route, lock, **kwargs):\n",
    "        # initialize super class with remaining variables\n",
    "        super().__init__(**kwargs)\n",
    "        self.v = v\n",
    "        self.route = route\n",
    "        self.lock = lock\n",
    "    def pass_edge(self, edge):\n",
    "        \"\"\"compute distances and wait for the duration\"\"\"\n",
    "        # json configuration does not know about tuples, let's convert it before we use it\n",
    "        if edge == tuple(self.lock[\"edge\"]):\n",
    "            print(f\"Waiting for lock on edge {edge}\")\n",
    "            yield env.timeout(lock[\"wait\"])\n",
    "        \n",
    "        a, b = edge\n",
    "        destination = env.network[b][\"geometry\"]\n",
    "        origin = env.network[a][\"geometry\"]\n",
    "        distance = abs(destination - origin)\n",
    "        duration = distance / self.v\n",
    "        print(f\"Going from {a} to {b}, distance: {distance}\")\n",
    "        yield env.timeout(duration)        \n",
    "    def move(self):\n",
    "        \"\"\"pass all edges in the route\"\"\"\n",
    "        for edge in edges(self.route):\n",
    "            yield from self.pass_edge(edge)\n",
    "\n",
    "## Simulation\n",
    "\n",
    "# Read input from file\n",
    "with open(\"config.json\") as f:\n",
    "    config = json.load(f)\n",
    "\n",
    "env = simpy.Environment()   \n",
    "env.network = config[\"network\"]\n",
    "# pass all ship parameters\n",
    "ship = Ship(env=env, lock=config[\"lock\"], **config[\"ship\"])\n",
    "env.process(ship.move())\n",
    "env.run()\n",
    "print(f\"t: {env.now}\")        "
   ]
  },
  {
   "cell_type": "markdown",
   "id": "1026ab52",
   "metadata": {},
   "source": [
    "# Single responsibility"
   ]
  },
  {
   "cell_type": "markdown",
   "id": "071f2bd4",
   "metadata": {},
   "source": [
    "# YAGNI"
   ]
  },
  {
   "cell_type": "markdown",
   "id": "7a206d1d",
   "metadata": {},
   "source": [
    "# Principle of least knowledge"
   ]
  },
  {
   "cell_type": "markdown",
   "id": "214b28c9",
   "metadata": {},
   "source": [
    "# Principle of least surprise"
   ]
  },
  {
   "cell_type": "markdown",
   "id": "7a545bb6",
   "metadata": {},
   "source": [
    "# Don't call us, we'll call you\n",
    "We can use the so called \"hollywood principle\" or \"inversion of control\" to add custom functions to the pass edge. "
   ]
  },
  {
   "cell_type": "code",
   "execution_count": 38,
   "id": "e4e1699e",
   "metadata": {},
   "outputs": [
    {
     "name": "stdout",
     "output_type": "stream",
     "text": [
      "Waiting for lock on edge ('Rotterdam', 'Dordrecht')\n",
      "Going from Rotterdam to Dordrecht, distance: 20000\n",
      "Going from Dordrecht to Den Bosch, distance: 40000\n",
      "Going from Den Bosch to Rotterdam, distance: 60000\n",
      "t: 61800.0\n"
     ]
    }
   ],
   "source": [
    "import json\n",
    "\n",
    "class SimpyObject:\n",
    "    def __init__(self, env):\n",
    "        self.env = env\n",
    "\n",
    "class Ship(SimpyObject):\n",
    "    def __init__(self, v, route, lock, **kwargs):\n",
    "        # initialize super class with remaining variables\n",
    "        super().__init__(**kwargs)\n",
    "        self.v = v\n",
    "        self.route = route\n",
    "        self.lock = lock\n",
    "        # you can \n",
    "        self.on_pass_edge = []\n",
    "    def pass_edge(self, edge):\n",
    "        \"\"\"compute distances and wait for the duration\"\"\"\n",
    "        a, b = edge\n",
    "        destination = env.network[b][\"geometry\"]\n",
    "        origin = env.network[a][\"geometry\"]\n",
    "        distance = abs(destination - origin)\n",
    "        duration = distance / self.v\n",
    "        for gen in self.on_pass_edge:\n",
    "            yield from gen(self, edge)\n",
    "        \n",
    "        print(f\"Going from {a} to {b}, distance: {distance}\")\n",
    "        yield env.timeout(duration)        \n",
    "    def move(self):\n",
    "        \"\"\"pass all edges in the route\"\"\"\n",
    "        for edge in edges(self.route):\n",
    "            yield from self.pass_edge(edge)\n",
    "\n",
    "## Simulation\n",
    "\n",
    "# Read input from file\n",
    "with open(\"config.json\") as f:\n",
    "    config = json.load(f)\n",
    "\n",
    "env = simpy.Environment()   \n",
    "env.network = config[\"network\"]\n",
    "# pass all ship parameters\n",
    "ship = Ship(env=env, lock=config[\"lock\"], **config[\"ship\"])\n",
    "\n",
    "\n",
    "def wait_for_lock(ship, e):\n",
    "    if e == tuple(ship.lock[\"edge\"]):\n",
    "        print(f\"Waiting for lock on edge {e}\")\n",
    "        yield ship.env.timeout(ship.lock[\"wait\"])\n",
    "\n",
    "    \n",
    "ship.on_pass_edge.append(wait_for_lock)\n",
    "\n",
    "env.process(ship.move())\n",
    "env.run()\n",
    "print(f\"t: {env.now}\")        "
   ]
  },
  {
   "cell_type": "code",
   "execution_count": 47,
   "id": "a810c620",
   "metadata": {},
   "outputs": [
    {
     "name": "stdout",
     "output_type": "stream",
     "text": [
      "Waiting for lock on edge ('Rotterdam', 'Dordrecht') for 1800s\n",
      "Going from Rotterdam to Dordrecht, distance: 20000\n",
      "Going from Dordrecht to Den Bosch, distance: 40000\n",
      "Going from Den Bosch to Rotterdam, distance: 60000\n",
      "t: 61800.0\n"
     ]
    }
   ],
   "source": [
    "import json\n",
    "\n",
    "class SimpyObject:\n",
    "    def __init__(self, env):\n",
    "        self.env = env\n",
    "\n",
    "class Ship(SimpyObject):\n",
    "    def __init__(self, v, route, **kwargs):\n",
    "        # initialize super class with remaining variables\n",
    "        super().__init__(**kwargs)\n",
    "        self.v = v\n",
    "        self.route = route\n",
    "        # you can \n",
    "        self.on_pass_edge = []\n",
    "    def pass_edge(self, edge):\n",
    "        \"\"\"compute distances and wait for the duration\"\"\"\n",
    "        a, b = edge\n",
    "        destination = env.network[b][\"geometry\"]\n",
    "        origin = env.network[a][\"geometry\"]\n",
    "        distance = abs(destination - origin)\n",
    "        duration = distance / self.v\n",
    "        for gen in self.on_pass_edge:\n",
    "            yield from gen(edge)\n",
    "        \n",
    "        print(f\"Going from {a} to {b}, distance: {distance}\")\n",
    "        yield env.timeout(duration)        \n",
    "    def move(self):\n",
    "        \"\"\"pass all edges in the route\"\"\"\n",
    "        for edge in edges(self.route):\n",
    "            yield from self.pass_edge(edge)\n",
    "\n",
    "## Simulation\n",
    "\n",
    "\n",
    "class ShipWithLock(Ship):\n",
    "    def __init__(self, lock, *args, **kwargs):\n",
    "        super().__init__(**kwargs)\n",
    "        self.lock = lock\n",
    "        \n",
    "        # register to the on_pass_edge functions\n",
    "        self.on_pass_edge.append(self.wait_for_lock)\n",
    "\n",
    "    def wait_for_lock(self, e):\n",
    "        if e == tuple(self.lock[\"edge\"]):\n",
    "            print(f\"Waiting for lock on edge {e} for {self.lock['wait']}s\")\n",
    "            yield ship.env.timeout(self.lock[\"wait\"])\n",
    "\n",
    "# Read input from file\n",
    "with open(\"config.json\") as f:\n",
    "    config = json.load(f)\n",
    "\n",
    "env = simpy.Environment()   \n",
    "env.network = config[\"network\"]\n",
    "\n",
    "# pass all ship parameters\n",
    "ship = ShipWithLock(env=env, lock=config[\"lock\"], **config[\"ship\"])  \n",
    "env.process(ship.move())\n",
    "env.run()\n",
    "print(f\"t: {env.now}\")        "
   ]
  },
  {
   "cell_type": "code",
   "execution_count": null,
   "id": "d9fda97a",
   "metadata": {},
   "outputs": [],
   "source": []
  }
 ],
 "metadata": {
  "kernelspec": {
   "display_name": "Python 3 (ipykernel)",
   "language": "python",
   "name": "python3"
  },
  "language_info": {
   "codemirror_mode": {
    "name": "ipython",
    "version": 3
   },
   "file_extension": ".py",
   "mimetype": "text/x-python",
   "name": "python",
   "nbconvert_exporter": "python",
   "pygments_lexer": "ipython3",
   "version": "3.9.10"
  }
 },
 "nbformat": 4,
 "nbformat_minor": 5
}
